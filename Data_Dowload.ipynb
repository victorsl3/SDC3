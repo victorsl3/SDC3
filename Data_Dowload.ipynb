{
 "cells": [
  {
   "attachments": {},
   "cell_type": "markdown",
   "metadata": {},
   "source": [
    "# Descarga de archivos"
   ]
  },
  {
   "attachments": {},
   "cell_type": "markdown",
   "metadata": {},
   "source": [
    "## Google Drive"
   ]
  },
  {
   "cell_type": "code",
   "execution_count": 1,
   "metadata": {},
   "outputs": [
    {
     "name": "stderr",
     "output_type": "stream",
     "text": [
      "Downloading...\n",
      "From: https://drive.google.com/uc?id=1sLpWOLrhQrP0LPww-5eLJ-Q7zUfFI30c\n",
      "To: /home/21953404Victor/SDC3/data/ZW2.msw_psf.md5\n",
      "100%|██████████| 51.0/51.0 [00:00<00:00, 354kB/s]\n",
      "Downloading...\n",
      "From: https://drive.google.com/uc?id=1rjGmylqjvt-mNVVDLAhbnZ2Yxwv8MQng\n",
      "To: /home/21953404Victor/SDC3/data/ZW2.msw_psf.fits\n",
      "100%|██████████| 15.1G/15.1G [02:31<00:00, 99.8MB/s]\n",
      "Downloading...\n",
      "From: https://drive.google.com/uc?id=1c3yp_AYTCCe8zd3SwLvXnoR7yTvn1LTk\n",
      "To: /home/21953404Victor/SDC3/data/ZW2.msw_image.md5\n",
      "100%|██████████| 53.0/53.0 [00:00<00:00, 210kB/s]\n",
      "Downloading...\n",
      "From: https://drive.google.com/uc?id=1Ri0aRK_vdjCAS_sx25v--3W0v723ROkH\n",
      "To: /home/21953404Victor/SDC3/data/ZW2.msw_image.fits\n",
      "100%|██████████| 15.1G/15.1G [02:36<00:00, 96.8MB/s]\n",
      "Downloading...\n",
      "From: https://drive.google.com/uc?id=1EeZ5a-j1v1ckCshbi7F-uW_krO5FshYi\n",
      "To: /home/21953404Victor/SDC3/data/ZW2.msw_psf.md5\n",
      "100%|██████████| 51.0/51.0 [00:00<00:00, 204kB/s]\n",
      "Downloading...\n",
      "From: https://drive.google.com/uc?id=13MCcfhzCghOLl5BMdGZElcDJaWX8t6Vd\n",
      "To: /home/21953404Victor/SDC3/data/ZW2.msn_psf.fits\n",
      "100%|██████████| 15.1G/15.1G [02:30<00:00, 100MB/s] \n",
      "Downloading...\n",
      "From: https://drive.google.com/uc?id=1_Yt67v6l-DzcmVMCklu4D1sHKUXH8gd1\n",
      "To: /home/21953404Victor/SDC3/data/ZW2.msn_image.md5\n",
      "100%|██████████| 53.0/53.0 [00:00<00:00, 173kB/s]\n",
      "Downloading...\n",
      "From: https://drive.google.com/uc?id=1bvx6xu83baqGHlkfCJL0j5BNQfj1wW8O\n",
      "To: /home/21953404Victor/SDC3/data/ZW2.msn_image.fits\n",
      "100%|██████████| 15.1G/15.1G [02:32<00:00, 98.8MB/s]\n",
      "Downloading...\n",
      "From: https://drive.google.com/uc?id=1nSPyb00QdhdiKiRcNVwj1EfAmC81dRcn\n",
      "To: /home/21953404Victor/SDC3/data/station_beam.md5\n",
      "100%|██████████| 52.0/52.0 [00:00<00:00, 354kB/s]\n",
      "Downloading...\n",
      "From: https://drive.google.com/uc?id=17nOu2AsJRrXuROTTfuE9l2JG53wo5QbX\n",
      "To: /home/21953404Victor/SDC3/data/station_beam.fits\n",
      "100%|██████████| 23.6G/23.6G [04:13<00:00, 93.1MB/s]\n",
      "Downloading...\n",
      "From: https://drive.google.com/uc?id=11b1gTbS4yBpBVaM_E8drwLONSlwCthti\n",
      "To: /home/21953404Victor/SDC3/data/station_beam_time-varying.md5\n",
      "100%|██████████| 65.0/65.0 [00:00<00:00, 461kB/s]\n"
     ]
    },
    {
     "name": "stdout",
     "output_type": "stream",
     "text": [
      "Access denied with the following error:\n"
     ]
    },
    {
     "name": "stderr",
     "output_type": "stream",
     "text": [
      "\n",
      " \tCannot retrieve the public link of the file. You may need to change\n",
      "\tthe permission to 'Anyone with the link', or have had many accesses. \n",
      "\n",
      "You may still be able to access the file from the browser:\n",
      "\n",
      "\t https://drive.google.com/uc?id=1mVTwej3eyng_cPFeYmrZJgkxnLwnKa-K \n",
      "\n",
      "Downloading...\n",
      "From: https://drive.google.com/uc?id=1gU8eqXaFokbeXGZHWOvrn5s1XOlXvRU5\n",
      "To: /home/21953404Victor/SDC3/data/README\n",
      "100%|██████████| 713/713 [00:00<00:00, 5.39MB/s]\n"
     ]
    }
   ],
   "source": [
    "import gdown\n",
    "\n",
    "file_ids = [(\"1sLpWOLrhQrP0LPww-5eLJ-Q7zUfFI30c\"),\n",
    "    (\"1rjGmylqjvt-mNVVDLAhbnZ2Yxwv8MQng\"),\n",
    "    (\"1c3yp_AYTCCe8zd3SwLvXnoR7yTvn1LTk\"),\n",
    "    (\"1Ri0aRK_vdjCAS_sx25v--3W0v723ROkH\"),\n",
    "    (\"1EeZ5a-j1v1ckCshbi7F-uW_krO5FshYi\"),\n",
    "    (\"13MCcfhzCghOLl5BMdGZElcDJaWX8t6Vd\"),\n",
    "    (\"1_Yt67v6l-DzcmVMCklu4D1sHKUXH8gd1\"),\n",
    "    (\"1bvx6xu83baqGHlkfCJL0j5BNQfj1wW8O\"),\n",
    "    (\"1nSPyb00QdhdiKiRcNVwj1EfAmC81dRcn\"),\n",
    "    (\"17nOu2AsJRrXuROTTfuE9l2JG53wo5QbX\"),\n",
    "    (\"11b1gTbS4yBpBVaM_E8drwLONSlwCthti\"),\n",
    "    (\"1mVTwej3eyng_cPFeYmrZJgkxnLwnKa-K\"),\n",
    "    (\"1gU8eqXaFokbeXGZHWOvrn5s1XOlXvRU5\")]\n",
    "\n",
    "file_names=[\"ZW2.msw_psf.md5\",\n",
    "    \"ZW2.msw_psf.fits\",\n",
    "    \"ZW2.msw_image.md5\",\n",
    "    \"ZW2.msw_image.fits\",\n",
    "    \"ZW2.msw_psf.md5\",\n",
    "    \"ZW2.msn_psf.fits\",\n",
    "    \"ZW2.msn_image.md5\",\n",
    "    \"ZW2.msn_image.fits\",\n",
    "    \"station_beam.md5\",\n",
    "    \"station_beam.fits\",\n",
    "    \"station_beam_time-varying.md5\",\n",
    "    \"station_beam_time-varying.fits\",\n",
    "    \"README\"]\n",
    "\n",
    "path = \"/home/21953404Victor/SDC3/SDC3GIT/data/\"\n",
    "\n",
    "for file_id, file_name in zip(file_ids, file_names):\n",
    "  url = f\"https://drive.google.com/uc?id={file_id}\"\n",
    "  output = path + file_name\n",
    "  gdown.download(url, output)"
   ]
  },
  {
   "attachments": {},
   "cell_type": "markdown",
   "metadata": {},
   "source": [
    "## Problema con un archivo"
   ]
  },
  {
   "cell_type": "code",
   "execution_count": 25,
   "metadata": {},
   "outputs": [
    {
     "name": "stdout",
     "output_type": "stream",
     "text": [
      "['station_beam.md5', 'ZW2.msn_image.md5', 'ZW2.msw_image.fits', 'station_beam.fits', 'ZW2.msw_psf.md5', 'README', 'station_beam_time-varying.md5', 'ZW2.msw_psf.fits', 'ZW2.msw_image.md5', 'ZW2.msn_image.fits', 'ZW2.msn_psf.fits']\n"
     ]
    }
   ],
   "source": [
    "import os\n",
    "path = \"/home/21953404Victor/SDC3/data\"\n",
    "archivos = [f for f in os.listdir(path) if os.path.isfile(os.path.join(path, f))]\n",
    "print(archivos)"
   ]
  },
  {
   "cell_type": "code",
   "execution_count": 26,
   "metadata": {},
   "outputs": [
    {
     "name": "stdout",
     "output_type": "stream",
     "text": [
      "['station_beam_time-varying.fits']\n"
     ]
    }
   ],
   "source": [
    "import numpy as np\n",
    "array1 = archivos\n",
    "array2 = file_names\n",
    "distintos = np.setdiff1d(array2, array1)\n",
    "print(distintos)"
   ]
  },
  {
   "attachments": {},
   "cell_type": "markdown",
   "metadata": {},
   "source": [
    "## station_beam_time-varying.fits no permite descargarlo:\n",
    "\n",
    " Access denied with the following error:\n",
    "\n",
    " \tCannot retrieve the public link of the file. You may need to change\n",
    "\tthe permission to 'Anyone with the link', or have had many accesses. \n",
    "\n",
    "You may still be able to access the file from the browser:\n",
    "\n",
    "\t https://drive.google.com/uc?id=1mVTwej3eyng_cPFeYmrZJgkxnLwnKa-K "
   ]
  },
  {
   "cell_type": "code",
   "execution_count": null,
   "metadata": {},
   "outputs": [],
   "source": []
  }
 ],
 "metadata": {
  "kernelspec": {
   "display_name": "Python 3",
   "language": "python",
   "name": "python3"
  },
  "language_info": {
   "codemirror_mode": {
    "name": "ipython",
    "version": 3
   },
   "file_extension": ".py",
   "mimetype": "text/x-python",
   "name": "python",
   "nbconvert_exporter": "python",
   "pygments_lexer": "ipython3",
   "version": "3.10.6"
  },
  "orig_nbformat": 4
 },
 "nbformat": 4,
 "nbformat_minor": 2
}
