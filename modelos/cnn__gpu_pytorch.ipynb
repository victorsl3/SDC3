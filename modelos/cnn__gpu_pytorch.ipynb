{
 "cells": [
  {
   "cell_type": "code",
   "execution_count": 1,
   "metadata": {},
   "outputs": [],
   "source": [
    "import os\n",
    "import torch\n",
    "import torch.nn as nn\n",
    "import torch.optim as optim\n",
    "from torch.utils.data import DataLoader, TensorDataset\n",
    "import torchvision.transforms as transforms\n",
    "import matplotlib.pyplot as plt\n",
    "import numpy as np\n",
    "from sklearn.model_selection import train_test_split\n",
    "from astropy.io import fits\n",
    "from astropy.table import Table"
   ]
  },
  {
   "cell_type": "code",
   "execution_count": 2,
   "metadata": {},
   "outputs": [
    {
     "name": "stdout",
     "output_type": "stream",
     "text": [
      "cuda\n"
     ]
    }
   ],
   "source": [
    "# Configurar el dispositivo\n",
    "device = torch.device(\"cuda\" if torch.cuda.is_available() else \"cpu\")\n",
    "print(device)"
   ]
  },
  {
   "cell_type": "code",
   "execution_count": 3,
   "metadata": {},
   "outputs": [],
   "source": [
    "# Cargar los datos a partir de los archivos FITS\n",
    "path_datos = \"../data/\"\n",
    "path = path_datos + \"ZW2.msw_image.fits\"\n",
    "hdul = fits.open(path)\n",
    "\n",
    "# Leer el archivo de texto con las posiciones de las galaxias\n",
    "with open(\"galaxias_sextractor_marcos.txt\", \"r\") as f:\n",
    "    lines = f.readlines()\n",
    "\n",
    "# Crear un ndarray de ceros con la misma forma que tus imágenes\n",
    "label = np.zeros((2048, 2048), dtype=int)\n",
    "\n",
    "# Función para mantener las coordenadas dentro de los límites de la imagen\n",
    "def clamp(value, min_value, max_value):\n",
    "    return max(min(value, max_value), min_value)\n",
    "\n",
    "# Establecer a 1 las posiciones correspondientes a las galaxias\n",
    "for line in lines:\n",
    "    x, y, _ = line.split()\n",
    "    x, y = int(float(x)), int(float(y))\n",
    "\n",
    "    # Establecer 1 en un área de 8x8 píxeles alrededor de la posición central de cada galaxia\n",
    "    for i in range(-4, 4):\n",
    "        for j in range(-4, 4):\n",
    "            x_coord = clamp(x + i, 0, 2047)\n",
    "            y_coord = clamp(y + j, 0, 2047)\n",
    "            label[y_coord, x_coord] = 1"
   ]
  },
  {
   "cell_type": "code",
   "execution_count": 4,
   "metadata": {},
   "outputs": [],
   "source": [
    "# Cargar los datos y dividirlos en conjuntos de entrenamiento y validación\n",
    "num_samples = len(hdul[0].data) # Cargar todos los datos en lugar de una muestra de 400 imágenes\n",
    "all_data = hdul[0].data\n",
    "indices = sorted(np.random.choice(all_data.shape[0], num_samples, replace=False))\n",
    "data = all_data[indices]\n",
    "input_data = np.array(data).astype(\"float32\") / 255.0\n",
    "input_data = input_data.reshape((data.shape[0], 1, data.shape[1], data.shape[2]))\n",
    "\n",
    "output_data = np.repeat(label[np.newaxis, np.newaxis, :, :], data.shape[0], axis=0)\n",
    "\n",
    "x_train, x_val, y_train, y_val = train_test_split(input_data, output_data, test_size=0.2, random_state=42)\n",
    "\n",
    "x_train = torch.from_numpy(x_train)\n",
    "y_train = torch.from_numpy(y_train)\n",
    "x_val = torch.from_numpy(x_val)\n",
    "y_val = torch.from_numpy(y_val)\n",
    "\n",
    "train_data = TensorDataset(x_train, y_train)\n",
    "val_data = TensorDataset(x_val, y_val)\n",
    "\n",
    "tam_lote=2\n",
    "\n",
    "train_loader = DataLoader(train_data, batch_size=tam_lote, shuffle=True)\n",
    "val_loader = DataLoader(val_data, batch_size=tam_lote, shuffle=False)"
   ]
  },
  {
   "attachments": {},
   "cell_type": "markdown",
   "metadata": {},
   "source": [
    "He creado una arquitectura de red neuronal en PyTorch que es similar a la que tenía en TensorFlow. Aunque las dos redes son bastante parecidas en términos de estructura general y cantidad de capas, hay algunas diferencias clave:\n",
    "\n",
    "Carga de todos los datos de hdul. Aprovechando el procesamiento gráfico disponible.\n",
    "\n",
    "Alteración del learning rate y tamaño de los lotes (el tamaño de los lotes no se ha podido aumentar al final)\n",
    "\n",
    "En lugar de utilizar tfa.layers.InstanceNormalization() en TensorFlow, he optado por usar nn.BatchNorm2d en PyTorch. Ambas capas tienen propósitos similares, que consisten en normalizar las características de las capas convolucionales para mejorar la estabilidad y el rendimiento del entrenamiento. Aunque no son exactamente lo mismo, nn.BatchNorm2d es una buena alternativa en PyTorch para este caso.\n",
    "\n",
    "En la versión PyTorch, las funciones de activación ReLU están separadas de las capas convolucionales, mientras que en la versión TensorFlow, las funciones de activación ReLU están incluidas como un argumento en las capas convolucionales. A pesar de esta diferencia, la funcionalidad de la red no se ve afectada."
   ]
  },
  {
   "cell_type": "code",
   "execution_count": 5,
   "metadata": {},
   "outputs": [],
   "source": [
    "# Crear la CNN\n",
    "encoder = nn.Sequential(\n",
    "    nn.Conv2d(1, 32, 3, padding=1),\n",
    "    nn.ReLU(),\n",
    "    nn.BatchNorm2d(32),\n",
    "    nn.MaxPool2d(2, 2),\n",
    "    nn.Conv2d(32, 32, 3, padding=1),\n",
    "    nn.ReLU(),\n",
    "    nn.BatchNorm2d(32),\n",
    "    nn.MaxPool2d(2, 2),\n",
    "    nn.Conv2d(32, 32, 3, padding=1),\n",
    "    nn.ReLU()\n",
    ")\n",
    "\n",
    "decoder = nn.Sequential(\n",
    "    nn.ConvTranspose2d(32, 32, 3, stride=2, padding=1, output_padding=1),\n",
    "    nn.ReLU(),\n",
    "    nn.BatchNorm2d(32),\n",
    "    nn.ConvTranspose2d(32, 32, 3, stride=2, padding=1, output_padding=1),\n",
    "    nn.ReLU(),\n",
    "    nn.BatchNorm2d(32),\n",
    "    nn.ConvTranspose2d(32, 1, 3, padding=1),\n",
    "    nn.Sigmoid()\n",
    ")\n",
    "\n",
    "encoder = encoder.to(device)\n",
    "decoder = decoder.to(device)\n",
    "\n",
    "# Función de pérdida y optimizador\n",
    "criterion = nn.BCELoss()\n",
    "optimizer = optim.Adam(list(encoder.parameters()) + list(decoder.parameters()), lr=0.0005) # Cambiamos el learning rate de 0.001 a 0.0005"
   ]
  },
  {
   "cell_type": "code",
   "execution_count": 6,
   "metadata": {},
   "outputs": [
    {
     "name": "stdout",
     "output_type": "stream",
     "text": [
      "Epoch 1/30, Pérdida del train: 0.17760794128084348, Pérdida del test: 85.51667961707481\n",
      "Epoch 2/30, Pérdida del train: 0.039246418399529324, Pérdida del test: 97.03695477496137\n",
      "Epoch 3/30, Pérdida del train: 0.034945007061792745, Pérdida del test: 73.34226662772042\n",
      "Epoch 4/30, Pérdida del train: 0.03293746205615915, Pérdida del test: 85.41772821447351\n",
      "Epoch 5/30, Pérdida del train: 0.031697500264272094, Pérdida del test: 73.25200745299622\n",
      "Epoch 6/30, Pérdida del train: 0.030753252419850066, Pérdida del test: 73.48570813189497\n",
      "Epoch 7/30, Pérdida del train: 0.029875738830823038, Pérdida del test: 32.971141312148546\n",
      "Epoch 8/30, Pérdida del train: 0.029220911438783838, Pérdida del test: 0.9767801388279422\n",
      "Epoch 9/30, Pérdida del train: 0.02859619682033857, Pérdida del test: 2.583313281719501\n",
      "Epoch 10/30, Pérdida del train: 0.028139275312423707, Pérdida del test: 97.19292525406722\n",
      "Epoch 11/30, Pérdida del train: 0.027859006418536107, Pérdida del test: 2.70138219162658\n",
      "Epoch 12/30, Pérdida del train: 0.02759169082209054, Pérdida del test: 2.5873263484829074\n",
      "Epoch 13/30, Pérdida del train: 0.027016924013797607, Pérdida del test: 2.597576392875923\n",
      "Epoch 14/30, Pérdida del train: 0.026829623397336237, Pérdida del test: 2.748705486674885\n",
      "Epoch 15/30, Pérdida del train: 0.02654746521729976, Pérdida del test: 97.30392799796638\n",
      "Epoch 16/30, Pérdida del train: 0.026405921899196175, Pérdida del test: 97.22282024006267\n",
      "Epoch 17/30, Pérdida del train: 0.025910939014930693, Pérdida del test: 85.37605537163033\n",
      "Epoch 18/30, Pérdida del train: 0.02566048987985899, Pérdida del test: 2.625602813867422\n",
      "Epoch 19/30, Pérdida del train: 0.02528254687656752, Pérdida del test: 90.8285163627876\n",
      "Epoch 20/30, Pérdida del train: 0.025388888210161692, Pérdida del test: 2.589345994886461\n",
      "Epoch 21/30, Pérdida del train: 0.02511626503740748, Pérdida del test: 97.33609947791466\n",
      "Epoch 22/30, Pérdida del train: 0.024697743352347364, Pérdida del test: 85.33915643377618\n",
      "Epoch 23/30, Pérdida del train: 0.02463112803072565, Pérdida del test: 97.35922970614591\n",
      "Epoch 24/30, Pérdida del train: 0.024240640755225386, Pérdida del test: 78.69484257960058\n",
      "Epoch 25/30, Pérdida del train: 0.024272439592621393, Pérdida del test: 61.52316464434613\n",
      "Epoch 26/30, Pérdida del train: 0.024082173972338854, Pérdida del test: 3.140122204036503\n",
      "Epoch 27/30, Pérdida del train: 0.023922779953055497, Pérdida del test: 14.661035202361726\n",
      "Epoch 28/30, Pérdida del train: 0.02388293076849853, Pérdida del test: 84.98310935890282\n",
      "Epoch 29/30, Pérdida del train: 0.023700296801204484, Pérdida del test: 2.6796927059089746\n",
      "Epoch 30/30, Pérdida del train: 0.023489683337457892, Pérdida del test: 68.00829566704049\n"
     ]
    },
    {
     "data": {
      "image/png": "[encoded data removed]",
      "text/plain": [
       "<Figure size 640x480 with 1 Axes>"
      ]
     },
     "metadata": {},
     "output_type": "display_data"
    },
    {
     "ename": "",
     "evalue": "",
     "output_type": "error",
     "traceback": [
      "\u001b[1;31mEl Kernel se bloqueó al ejecutar código en la celda actual o en una celda anterior. Revise el código de las celdas para identificar una posible causa del error. Haga clic <a href='https://aka.ms/vscodeJupyterKernelCrash'>aquí</a> para obtener más información. Vea el [registro] de Jupyter (command:jupyter.viewOutput) para obtener más detalles."
     ]
    }
   ],
   "source": [
    "# Entrenamiento\n",
    "num_epochs = 30\n",
    "train_losses = []\n",
    "val_losses = []\n",
    "\n",
    "for epoch in range(num_epochs):\n",
    "    encoder.train()\n",
    "    decoder.train()\n",
    "    train_loss = 0.0\n",
    "    \n",
    "    for images, labels in train_loader:\n",
    "        images, labels = images.to(device), labels.to(device)\n",
    "\n",
    "        optimizer.zero_grad()\n",
    "\n",
    "        enc_output = encoder(images)\n",
    "        dec_output = decoder(enc_output)\n",
    "\n",
    "        # Convertir las etiquetas a float\n",
    "        labels_float = labels.float()\n",
    "\n",
    "        loss = criterion(dec_output, labels_float)\n",
    "        loss.backward()\n",
    "        optimizer.step()\n",
    "\n",
    "        train_loss += loss.item()\n",
    "        \n",
    "    train_losses.append(train_loss / len(train_loader))\n",
    "    \n",
    "    encoder.eval()\n",
    "    decoder.eval()\n",
    "    val_loss = 0.0\n",
    "    \n",
    "    with torch.no_grad():\n",
    "        for images, labels in val_loader:\n",
    "            images, labels = images.to(device), labels.to(device)\n",
    "            \n",
    "            enc_output = encoder(images)\n",
    "            dec_output = decoder(enc_output)\n",
    "            \n",
    "            # Convertir las etiquetas a float\n",
    "            labels_float = labels.float()\n",
    "            \n",
    "            loss = criterion(dec_output, labels_float)\n",
    "            \n",
    "            val_loss += loss.item()\n",
    "\n",
    "    \n",
    "    val_losses.append(val_loss / len(val_loader))\n",
    "    \n",
    "    print(f\"Epoch {epoch+1}/{num_epochs}, Pérdida del train: {train_losses[-1]}, Pérdida del test: {val_losses[-1]}\")\n",
    "\n",
    "# Gráfico de pérdida\n",
    "plt.plot(train_losses, label=\"Entrenamiento\")\n",
    "plt.plot(val_losses, label=\"Validación\")\n",
    "plt.xlabel(\"Épocas\")\n",
    "plt.ylabel(\"Pérdida\")\n",
    "plt.title(\"Pérdida\")\n",
    "plt.legend()\n",
    "plt.show()"
   ]
  },
  {
   "cell_type": "code",
   "execution_count": null,
   "metadata": {},
   "outputs": [],
   "source": [
    "torch.save(model.state_dict(), 'cnn_gpu_pytorch.pt')\n"
   ]
  },
  {
   "cell_type": "code",
   "execution_count": null,
   "metadata": {},
   "outputs": [],
   "source": [
    "model.load_state_dict(torch.load('cnn_gpu_pytorch.pt'))\n"
   ]
  }
 ],
 "metadata": {
  "kernelspec": {
   "display_name": "tutorial-env",
   "language": "python",
   "name": "python3"
  },
  "language_info": {
   "codemirror_mode": {
    "name": "ipython",
    "version": 3
   },
   "file_extension": ".py",
   "mimetype": "text/x-python",
   "name": "python",
   "nbconvert_exporter": "python",
   "pygments_lexer": "ipython3",
   "version": "3.10.6"
  },
  "orig_nbformat": 4
 },
 "nbformat": 4,
 "nbformat_minor": 2
}
