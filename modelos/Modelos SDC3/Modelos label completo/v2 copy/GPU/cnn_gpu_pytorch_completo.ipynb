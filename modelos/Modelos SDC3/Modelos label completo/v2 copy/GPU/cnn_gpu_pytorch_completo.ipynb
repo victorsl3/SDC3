{
 "cells": [
  {
   "cell_type": "code",
   "execution_count": 1,
   "metadata": {},
   "outputs": [
    {
     "name": "stderr",
     "output_type": "stream",
     "text": [
      "/home/21953404Victor/SDC3/tutorial-env/lib/python3.10/site-packages/tqdm/auto.py:21: TqdmWarning: IProgress not found. Please update jupyter and ipywidgets. See https://ipywidgets.readthedocs.io/en/stable/user_install.html\n",
      "  from .autonotebook import tqdm as notebook_tqdm\n"
     ]
    }
   ],
   "source": [
    "import os\n",
    "import re\n",
    "import torch\n",
    "import torch.nn as nn\n",
    "import torch.optim as optim\n",
    "from torch.utils.data import DataLoader, TensorDataset\n",
    "import torchvision.transforms as transforms\n",
    "import matplotlib.pyplot as plt\n",
    "import numpy as np\n",
    "from sklearn.model_selection import train_test_split\n",
    "from astropy.io import fits\n",
    "from astropy.table import Table\n",
    "import optuna\n",
    "import pickle\n",
    "import matplotlib.pyplot as plt\n",
    "import numpy as np\n",
    "import torch\n",
    "from sklearn.model_selection import train_test_split\n",
    "from sklearn.metrics import confusion_matrix, precision_score, recall_score, f1_score\n",
    "import pandas as pd\n",
    "import matplotlib.pyplot as plt\n",
    "from torch.utils.data import DataLoader, TensorDataset\n",
    "from sklearn.metrics import roc_auc_score\n"
   ]
  },
  {
   "cell_type": "code",
   "execution_count": 2,
   "metadata": {},
   "outputs": [],
   "source": [
    "# Cargar los datos a partir de los archivos FITS\n",
    "path_datos = \"/home/21953404Victor/SDC3/SDC3GIT/data_actualizada/\"\n",
    "path_repo=\"/home/21953404Victor/SDC3/SDC3GIT/\"\n",
    "path = path_datos + \"ZW3.msw_image.fits\"\n",
    "hdul = fits.open(path)"
   ]
  },
  {
   "attachments": {},
   "cell_type": "markdown",
   "metadata": {},
   "source": [
    "Transformación del catálogo de fuentes completo (almacenado)"
   ]
  },
  {
   "cell_type": "code",
   "execution_count": 3,
   "metadata": {},
   "outputs": [],
   "source": [
    "\n",
    "# ruta_carpeta_catalogos = \"/home/21953404Victor/SDC3/SDC3GIT/catalogos/catalogo completo 2/resultados/resultados_detection4\"\n",
    "# ruta_carpeta_resultados = \"/home/21953404Victor/SDC3/SDC3GIT/catalogos/catalogo completo 2/labels\"\n",
    "# archivos = os.listdir(ruta_carpeta_catalogos)\n",
    "\n",
    "# # Función para crear un archivo de anotación para cada catálogo\n",
    "# def crear_anotaciones(path_cat, path_anotacion):\n",
    "#     cat = Table.read(path_cat, format=\"ascii\")\n",
    "#     clase = \"fuente\"\n",
    "\n",
    "#     with open(path_anotacion, \"w\") as f:\n",
    "#         for row in cat:\n",
    "#             x = row[\"X_IMAGE\"]\n",
    "#             y = row[\"Y_IMAGE\"]\n",
    "#             f.write(f\"{x} {y} {clase}\\n\")\n",
    "\n",
    "# # Procesar todos los archivos de catálogo en la carpeta\n",
    "# for archivo in archivos:\n",
    "#     # Extraer el número de kHz del nombre del archivo\n",
    "#     num_khz = re.search(r\"(\\d+)kHz\", archivo).group(1)\n",
    "\n",
    "#     # Crear un nombre para el archivo de anotación correspondiente\n",
    "#     anotacion_nombre = f\"catalogo_completo_1_{num_khz}kHz.txt\"\n",
    "\n",
    "#     # Crear el archivo de anotación para el catálogo actual\n",
    "#     crear_anotaciones(\n",
    "#         os.path.join(ruta_carpeta_catalogos, archivo),\n",
    "#         os.path.join(ruta_carpeta_resultados, anotacion_nombre)\n",
    "#    )\n"
   ]
  },
  {
   "cell_type": "code",
   "execution_count": 3,
   "metadata": {},
   "outputs": [],
   "source": [
    "import os\n",
    "import numpy as np\n",
    "\n",
    "ruta_carpeta_resultados = \"/home/21953404Victor/SDC3/SDC3GIT/catalogos/catalogo completo 1/labels\"\n",
    "archivos = os.listdir(ruta_carpeta_resultados)\n",
    "\n",
    "def clamp(value, min_value, max_value):\n",
    "    return max(min(value, max_value), min_value)\n",
    "\n",
    "def procesar_archivo(path_txt):\n",
    "    with open(path_txt, \"r\") as f:\n",
    "        lines = f.readlines()\n",
    "\n",
    "    label = np.zeros((2048, 2048), dtype=int)\n",
    "\n",
    "    for line in lines:\n",
    "        x, y, _ = line.split()\n",
    "        x, y = int(float(x)), int(float(y))\n",
    "\n",
    "        x_coord = clamp(x, 0, 2047)\n",
    "        y_coord = clamp(y, 0, 2047)\n",
    "        label[y_coord, x_coord] = 1\n",
    "\n",
    "    return label\n",
    "\n",
    "# Crear una lista para guardar los datos procesados\n",
    "target=[]\n",
    "\n",
    "# Procesar todos los archivos de texto en la carpeta de resultados\n",
    "for archivo in archivos:\n",
    "    path_txt = os.path.join(ruta_carpeta_resultados, archivo)\n",
    "    label = procesar_archivo(path_txt)\n",
    "    target.append(label)\n",
    "\n"
   ]
  },
  {
   "cell_type": "code",
   "execution_count": 4,
   "metadata": {},
   "outputs": [],
   "source": [
    "output_data = np.array(target).astype(\"float32\")#[:, np.newaxis, :, :] # Agregar una dimensión para mantener el formato de los datos de entrada de la red neuronal\n",
    "del target"
   ]
  },
  {
   "cell_type": "code",
   "execution_count": 5,
   "metadata": {},
   "outputs": [
    {
     "name": "stdout",
     "output_type": "stream",
     "text": [
      "cuda\n"
     ]
    }
   ],
   "source": [
    "# Configurar el dispositivo\n",
    "device = torch.device(\"cuda\" if torch.cuda.is_available() else \"cpu\")\n",
    "print(device)"
   ]
  },
  {
   "cell_type": "code",
   "execution_count": 6,
   "metadata": {},
   "outputs": [],
   "source": [
    "torch.cuda.empty_cache()"
   ]
  },
  {
   "attachments": {},
   "cell_type": "markdown",
   "metadata": {},
   "source": [
    "## Transformar los datos"
   ]
  },
  {
   "cell_type": "code",
   "execution_count": 8,
   "metadata": {},
   "outputs": [
    {
     "name": "stdout",
     "output_type": "stream",
     "text": [
      "0.0004468742\n"
     ]
    }
   ],
   "source": [
    "probabilidad_imagen=np.mean(output_data)\n",
    "print(probabilidad_imagen)"
   ]
  },
  {
   "cell_type": "code",
   "execution_count": 9,
   "metadata": {},
   "outputs": [],
   "source": [
    "# Cargar los datos y dividirlos en conjuntos de entrenamiento y validación\n",
    "data = hdul[0].data\n",
    "\n",
    "input_data = np.array(data).astype(\"float32\") \n",
    "input_data=np.log10(((input_data - np.min(input_data)) / (np.max(input_data) - np.min(input_data))) + np.finfo(float).eps)\n",
    "\n",
    "input_data = input_data.reshape((data.shape[0], 1, data.shape[1], data.shape[2]))\n",
    "\n",
    "del hdul\n",
    "del data\n",
    "\n",
    "x_train, x_val, y_train, y_val = train_test_split(input_data, output_data, test_size=0.2, random_state=42)\n",
    "\n",
    "del input_data\n",
    "del output_data\n",
    "\n",
    "x_train = torch.from_numpy(x_train)\n",
    "y_train = torch.from_numpy(y_train).unsqueeze(1)\n",
    "x_val = torch.from_numpy(x_val)\n",
    "y_val = torch.from_numpy(y_val).unsqueeze(1)"
   ]
  },
  {
   "cell_type": "code",
   "execution_count": 10,
   "metadata": {},
   "outputs": [
    {
     "data": {
      "text/plain": [
       "<matplotlib.image.AxesImage at 0x7f3681c551b0>"
      ]
     },
     "execution_count": 10,
     "metadata": {},
     "output_type": "execute_result"
    },
    {
     "data": {
      "image/png": "[encoded data removed]",
      "text/plain": [
       "<Figure size 640x480 with 1 Axes>"
      ]
     },
     "metadata": {},
     "output_type": "display_data"
    }
   ],
   "source": [
    "plt.imshow(x_train[0][0])"
   ]
  },
  {
   "attachments": {},
   "cell_type": "markdown",
   "metadata": {},
   "source": [
    "## Arquitectura"
   ]
  },
  {
   "cell_type": "code",
   "execution_count": 7,
   "metadata": {},
   "outputs": [],
   "source": [
    "def create_decoder(dropout_rate, out_channels1, out_channels2, out_channels3):\n",
    "    decoder = nn.Sequential(\n",
    "        nn.ConvTranspose2d(out_channels3, out_channels2, 3, stride=2, padding=1, output_padding=1),\n",
    "        nn.ReLU(),\n",
    "        nn.BatchNorm2d(out_channels2),\n",
    "        nn.Dropout(dropout_rate),\n",
    "        nn.ConvTranspose2d(out_channels2, out_channels1, 3, stride=2, padding=1, output_padding=1),\n",
    "        nn.ReLU(),\n",
    "        nn.BatchNorm2d(out_channels1),\n",
    "        nn.Dropout(dropout_rate),\n",
    "        nn.ConvTranspose2d(out_channels1, 1, 3, padding=1),\n",
    "        nn.Sigmoid()\n",
    "    )\n",
    "    return decoder.to(device)\n",
    "\n",
    "def create_encoder(input_channels, num_filters1, num_filters2, dropout_rate, out_channels3):\n",
    "    encoder = nn.Sequential(\n",
    "        nn.Conv2d(input_channels, num_filters1, 3, padding=1),\n",
    "        nn.ReLU(),\n",
    "        nn.BatchNorm2d(num_filters1),\n",
    "        nn.MaxPool2d(2, 2),\n",
    "        nn.Dropout(dropout_rate),\n",
    "        nn.Conv2d(num_filters1, num_filters2, 3, padding=1),\n",
    "        nn.ReLU(),\n",
    "        nn.BatchNorm2d(num_filters2),\n",
    "        nn.MaxPool2d(2, 2),\n",
    "        nn.Dropout(dropout_rate),\n",
    "        nn.Conv2d(num_filters2, out_channels3, 3, padding=1),\n",
    "        nn.ReLU(),\n",
    "        nn.Dropout(dropout_rate)\n",
    "    )\n",
    "    return encoder.to(device)"
   ]
  },
  {
   "cell_type": "code",
   "execution_count": 13,
   "metadata": {},
   "outputs": [
    {
     "data": {
      "text/plain": [
       "torch.Size([720, 1, 2048, 2048])"
      ]
     },
     "execution_count": 13,
     "metadata": {},
     "output_type": "execute_result"
    }
   ],
   "source": [
    "np.shape(y_train)"
   ]
  },
  {
   "cell_type": "code",
   "execution_count": 14,
   "metadata": {},
   "outputs": [
    {
     "data": {
      "text/plain": [
       "torch.Size([720, 1, 2048, 2048])"
      ]
     },
     "execution_count": 14,
     "metadata": {},
     "output_type": "execute_result"
    }
   ],
   "source": [
    "np.shape(x_train)"
   ]
  },
  {
   "attachments": {},
   "cell_type": "markdown",
   "metadata": {},
   "source": [
    "### Optimizador de hiperparámetros"
   ]
  },
  {
   "cell_type": "code",
   "execution_count": 15,
   "metadata": {},
   "outputs": [],
   "source": [
    "def objective(trial):\n",
    "    # Cargar y dividir los datos en conjuntos de entrenamiento y validación\n",
    "    train_data = TensorDataset(x_train, y_train)\n",
    "    val_data = TensorDataset(x_val, y_val)\n",
    "\n",
    "    # Crear DataLoaders para entrenamiento y validación\n",
    "    batch_size = 1\n",
    "    train_loader = DataLoader(train_data, batch_size=batch_size, shuffle=True)\n",
    "    val_loader = DataLoader(val_data, batch_size=batch_size, shuffle=False)\n",
    "\n",
    "    # Hiperparámetros sugeridos por Optuna\n",
    "    lr = trial.suggest_loguniform(\"lr\", 1e-5, 1e-3)\n",
    "    dropout_rate = trial.suggest_uniform(\"dropout_rate\", 0.0, 0.5)\n",
    "    out_channels1 = trial.suggest_int(\"out_channels1\", 16, 64)\n",
    "    out_channels2 = trial.suggest_int(\"out_channels2\", 16, 64)\n",
    "    out_channels3 = trial.suggest_int(\"out_channels3\", 16, 64)\n",
    "    num_filters1 = trial.suggest_int(\"num_filters1\", 16, 64)\n",
    "    num_filters2 = trial.suggest_int(\"num_filters2\", 16, 64)\n",
    "\n",
    "    input_channels = 1\n",
    "    encoder = create_encoder(input_channels, num_filters1, num_filters2, dropout_rate, out_channels3)\n",
    "    decoder = create_decoder(dropout_rate, out_channels1, out_channels2, out_channels3)\n",
    "\n",
    "    criterion = nn.BCEWithLogitsLoss()\n",
    "    optimizer = optim.Adam(list(encoder.parameters()) + list(decoder.parameters()), lr=lr)\n",
    "\n",
    "    num_epochs = 30\n",
    "    best_roc_auc_score = 0\n",
    "\n",
    "    train_losses = []\n",
    "    val_losses = []\n",
    "    auc_scores = []\n",
    "\n",
    "    for epoch in range(num_epochs):\n",
    "        encoder.train()\n",
    "        decoder.train()\n",
    "\n",
    "        train_loss = 0\n",
    "        for images, labels in train_loader:\n",
    "            images, labels = images.to(device), labels.to(device)\n",
    "\n",
    "            optimizer.zero_grad()\n",
    "\n",
    "            enc_output = encoder(images)\n",
    "            dec_output = decoder(enc_output)\n",
    "\n",
    "            labels_float = labels.float()\n",
    "\n",
    "            loss = criterion(dec_output, labels_float)\n",
    "            loss.backward()\n",
    "            optimizer.step()\n",
    "\n",
    "            train_loss += loss.item()\n",
    "\n",
    "        train_loss /= len(train_loader)\n",
    "        train_losses.append(train_loss)\n",
    "\n",
    "        y_true, y_pred = [], []\n",
    "        encoder.eval()\n",
    "        decoder.eval()\n",
    "\n",
    "        val_loss = 0\n",
    "        with torch.no_grad():\n",
    "            for images, labels in val_loader:\n",
    "                images, labels = images.to(device), labels.to(device)\n",
    "\n",
    "                enc_output = encoder(images)\n",
    "                dec_output = decoder(enc_output)\n",
    "                dec_output = torch.squeeze(dec_output, dim=1)\n",
    "\n",
    "                labels_float = labels.float()\n",
    "                labels_float = torch.squeeze(labels_float, dim=1)\n",
    "\n",
    "                loss = criterion(dec_output, labels_float)\n",
    "                val_loss += loss.item()\n",
    "\n",
    "                y_true.extend(labels_float.cpu().numpy())\n",
    "                y_pred.extend(torch.sigmoid(dec_output).cpu().numpy())\n",
    "\n",
    "            val_loss /= len(val_loader)\n",
    "            val_losses.append(val_loss)\n",
    "\n",
    "            y_true_flat = np.reshape(y_true, (-1))\n",
    "            y_pred_flat = np.reshape(y_pred, (-1))\n",
    "\n",
    "            roc_auc = roc_auc_score(y_true_flat, y_pred_flat)\n",
    "            auc_scores.append(roc_auc)\n",
    "\n",
    "            print(f\"Epoch {epoch+1}/{num_epochs}, Train Loss: {train_loss}, Validation Loss: {val_loss}, ROC AUC: {roc_auc}\")\n",
    "\n",
    "            if roc_auc > best_roc_auc_score:\n",
    "                best_roc_auc_score = roc_auc\n",
    "                \n",
    "                # Save the model\n",
    "                decoder_path = f\"modelos_intermedios/decoder_gpu_cat_completo_trial_{trial.number}.pt\"\n",
    "                encoder_path = f\"modelos_intermedios/encoder_gpu_cat_completo_trial_{trial.number}.pt\"\n",
    "\n",
    "                torch.save(decoder.state_dict(), decoder_path)\n",
    "                torch.save(encoder.state_dict(), encoder_path)\n",
    "\n",
    "    # Clear the GPU\n",
    "    del decoder\n",
    "    del encoder\n",
    "    torch.cuda.empty_cache()\n",
    "\n",
    "    # Plotting training and validation loss\n",
    "    plt.figure(figsize=(10, 5))\n",
    "    plt.plot(train_losses, label='Training loss')\n",
    "    plt.plot(val_losses, label='Validation loss')\n",
    "    plt.legend(frameon=False)\n",
    "    plt.savefig(f\"modelos_intermedios/loss_plot_trial_{trial.number}.png\")\n",
    "    plt.close()\n",
    "\n",
    "    # Plotting ROC AUC scores\n",
    "    plt.figure(figsize=(10, 5))\n",
    "    plt.plot(auc_scores, label='ROC AUC Score')\n",
    "    plt.legend(frameon=False)\n",
    "    plt.savefig(f\"modelos_intermedios/auc_plot_trial_{trial.number}.png\")\n",
    "    plt.close()\n",
    "\n",
    "    return best_roc_auc_score\n"
   ]
  },
  {
   "cell_type": "code",
   "execution_count": 16,
   "metadata": {},
   "outputs": [
    {
     "name": "stderr",
     "output_type": "stream",
     "text": [
      "\u001b[32m[I 2023-05-28 12:09:50,953]\u001b[0m A new study created in memory with name: no-name-fe371b2e-60d9-4dd4-8158-a5be44c446f1\u001b[0m\n",
      "/tmp/ipykernel_885405/2761579482.py:12: FutureWarning: suggest_loguniform has been deprecated in v3.0.0. This feature will be removed in v6.0.0. See https://github.com/optuna/optuna/releases/tag/v3.0.0. Use :func:`~optuna.trial.Trial.suggest_float` instead.\n",
      "  lr = trial.suggest_loguniform(\"lr\", 1e-5, 1e-3)\n",
      "/tmp/ipykernel_885405/2761579482.py:13: FutureWarning: suggest_uniform has been deprecated in v3.0.0. This feature will be removed in v6.0.0. See https://github.com/optuna/optuna/releases/tag/v3.0.0. Use :func:`~optuna.trial.Trial.suggest_float` instead.\n",
      "  dropout_rate = trial.suggest_uniform(\"dropout_rate\", 0.0, 0.5)\n"
     ]
    },
    {
     "name": "stdout",
     "output_type": "stream",
     "text": [
      "Epoch 1/30, Train Loss: 0.7188352897763253, Validation Loss: 0.7051919662491393, ROC AUC: 0.49930268258636845\n",
      "Epoch 2/30, Train Loss: 0.7025687103470166, Validation Loss: 0.702120327159186, ROC AUC: 0.5000947318688244\n",
      "Epoch 3/30, Train Loss: 0.7020895404120286, Validation Loss: 0.7020613258056219, ROC AUC: 0.495364187267331\n",
      "Epoch 4/30, Train Loss: 0.7020544099311034, Validation Loss: 0.7020443766815228, ROC AUC: 0.4957912835087778\n",
      "Epoch 5/30, Train Loss: 0.7020418100059033, Validation Loss: 0.7020369366387635, ROC AUC: 0.49647105621331955\n",
      "Epoch 6/30, Train Loss: 0.6985161426994536, Validation Loss: 0.6958058509378802, ROC AUC: 0.4944219666265696\n",
      "Epoch 7/30, Train Loss: 0.6957966508136855, Validation Loss: 0.6957885866665708, ROC AUC: 0.4952798254351545\n",
      "Epoch 8/30, Train Loss: 0.6957870704432328, Validation Loss: 0.6957846521014008, ROC AUC: 0.49793068627079534\n",
      "Epoch 9/30, Train Loss: 0.6954270243644715, Validation Loss: 0.6937601958190539, ROC AUC: 0.5056930766225184\n",
      "Epoch 10/30, Train Loss: 0.6937549177143308, Validation Loss: 0.6937519311904907, ROC AUC: 0.5013153327004297\n",
      "Epoch 11/30, Train Loss: 0.69375139988131, Validation Loss: 0.6937507390975952, ROC AUC: 0.5010482926683655\n",
      "Epoch 12/30, Train Loss: 0.6937506010135015, Validation Loss: 0.693750262260437, ROC AUC: 0.5011432632673096\n",
      "Epoch 13/30, Train Loss: 0.6937502542303668, Validation Loss: 0.6937500238418579, ROC AUC: 0.502742458865735\n",
      "Epoch 14/30, Train Loss: 0.6937500652339723, Validation Loss: 0.6937499046325684, ROC AUC: 0.5053426922075707\n",
      "Epoch 15/30, Train Loss: 0.6937499878307184, Validation Loss: 0.6937499046325684, ROC AUC: 0.5011843490271897\n",
      "Epoch 16/30, Train Loss: 0.6937499076128006, Validation Loss: 0.6937499046325684, ROC AUC: 0.5020289310476919\n",
      "Epoch 17/30, Train Loss: 0.6936971259613832, Validation Loss: 0.8503198577554186, ROC AUC: 0.5042144926032388\n",
      "Epoch 18/30, Train Loss: 0.6931504003703595, Validation Loss: 0.6931472407520146, ROC AUC: 0.5023450554875153\n",
      "Epoch 19/30, Train Loss: 0.693148891793357, Validation Loss: 0.6931471824645996, ROC AUC: 0.5018948612615853\n",
      "Epoch 20/30, Train Loss: 0.6931472510099411, Validation Loss: 0.6931471824645996, ROC AUC: 0.4997568239719896\n",
      "Epoch 21/30, Train Loss: 0.6931472048991256, Validation Loss: 0.6931471824645996, ROC AUC: 0.4997568239719896\n",
      "Epoch 22/30, Train Loss: 0.6931471976968977, Validation Loss: 0.6931471824645996, ROC AUC: 0.4997568239719896\n",
      "Epoch 23/30, Train Loss: 0.6931471848653422, Validation Loss: 0.6931471824645996, ROC AUC: 0.4997568239719896\n",
      "Epoch 24/30, Train Loss: 0.6931471838719315, Validation Loss: 0.6931471824645996, ROC AUC: 0.4997568239719896\n",
      "Epoch 25/30, Train Loss: 0.6931471832924418, Validation Loss: 0.6931471824645996, ROC AUC: 0.4997568239719896\n",
      "Epoch 26/30, Train Loss: 0.6931471861898899, Validation Loss: 0.6931471824645996, ROC AUC: 0.4997567047095923\n",
      "Epoch 27/30, Train Loss: 0.6931471870177321, Validation Loss: 0.6931471824645996, ROC AUC: 0.4997567047095923\n",
      "Epoch 28/30, Train Loss: 0.6931471882594956, Validation Loss: 0.6931471824645996, ROC AUC: 0.4997568239719896\n",
      "Epoch 29/30, Train Loss: 0.6931471846169895, Validation Loss: 0.6931471824645996, ROC AUC: 0.49975694323438685\n",
      "Epoch 30/30, Train Loss: 0.6931471938888232, Validation Loss: 0.6931471824645996, ROC AUC: 0.49975694323438685\n"
     ]
    },
    {
     "name": "stderr",
     "output_type": "stream",
     "text": [
      "\u001b[32m[I 2023-05-28 13:51:46,514]\u001b[0m Trial 0 finished with value: 0.5056930766225184 and parameters: {'lr': 0.00036084047976713674, 'dropout_rate': 0.06970550838729356, 'out_channels1': 46, 'out_channels2': 30, 'out_channels3': 30, 'num_filters1': 22, 'num_filters2': 30}. Best is trial 0 with value: 0.5056930766225184.\u001b[0m\n",
      "/tmp/ipykernel_885405/2761579482.py:12: FutureWarning: suggest_loguniform has been deprecated in v3.0.0. This feature will be removed in v6.0.0. See https://github.com/optuna/optuna/releases/tag/v3.0.0. Use :func:`~optuna.trial.Trial.suggest_float` instead.\n",
      "  lr = trial.suggest_loguniform(\"lr\", 1e-5, 1e-3)\n",
      "/tmp/ipykernel_885405/2761579482.py:13: FutureWarning: suggest_uniform has been deprecated in v3.0.0. This feature will be removed in v6.0.0. See https://github.com/optuna/optuna/releases/tag/v3.0.0. Use :func:`~optuna.trial.Trial.suggest_float` instead.\n",
      "  dropout_rate = trial.suggest_uniform(\"dropout_rate\", 0.0, 0.5)\n"
     ]
    },
    {
     "name": "stdout",
     "output_type": "stream",
     "text": [
      "Epoch 1/30, Train Loss: 0.7689040061500337, Validation Loss: 0.7335330758305544, ROC AUC: 0.8027722805331184\n",
      "Epoch 2/30, Train Loss: 0.7136945320500268, Validation Loss: 0.7079198037721834, ROC AUC: 0.49801503315725226\n",
      "Epoch 3/30, Train Loss: 0.707041046106153, Validation Loss: 0.7064132305139995, ROC AUC: 0.4946721946870342\n",
      "Epoch 4/30, Train Loss: 0.7061890087193913, Validation Loss: 0.7059475450225956, ROC AUC: 0.4905154000390599\n",
      "Epoch 5/30, Train Loss: 0.705865406493346, Validation Loss: 0.7057501739559912, ROC AUC: 0.4898599252086102\n",
      "Epoch 6/30, Train Loss: 0.7057116587956747, Validation Loss: 0.7056460897566864, ROC AUC: 0.49240068449769636\n",
      "Epoch 7/30, Train Loss: 0.7056291754047076, Validation Loss: 0.7055897791741302, ROC AUC: 0.4868724643949726\n",
      "Epoch 8/30, Train Loss: 0.7055813137027952, Validation Loss: 0.7055564967308255, ROC AUC: 0.4893576283519177\n",
      "Epoch 9/30, Train Loss: 0.7055518654485543, Validation Loss: 0.7055354483878415, ROC AUC: 0.4889726860544954\n",
      "Epoch 10/30, Train Loss: 0.7055317851404349, Validation Loss: 0.7055220682976654, ROC AUC: 0.49340487272261185\n",
      "Epoch 11/30, Train Loss: 0.7055199233194193, Validation Loss: 0.7055145581124237, ROC AUC: 0.492902979198063\n",
      "Epoch 12/30, Train Loss: 0.7055125940177176, Validation Loss: 0.7055084188340118, ROC AUC: 0.49202768594898066\n",
      "Epoch 13/30, Train Loss: 0.705507859090964, Validation Loss: 0.7055049021599701, ROC AUC: 0.4920660117914153\n",
      "Epoch 14/30, Train Loss: 0.7055047066675292, Validation Loss: 0.7055025406963917, ROC AUC: 0.49185633346260604\n",
      "Epoch 15/30, Train Loss: 0.7055026546948486, Validation Loss: 0.7055010874627045, ROC AUC: 0.49186990531259\n",
      "Epoch 16/30, Train Loss: 0.7055012729432848, Validation Loss: 0.7055006106255463, ROC AUC: 0.4903452362067052\n",
      "Epoch 17/30, Train Loss: 0.7055004061096244, Validation Loss: 0.7054996569512298, ROC AUC: 0.49529114069113317\n",
      "Epoch 18/30, Train Loss: 0.705499788456493, Validation Loss: 0.7054991801140716, ROC AUC: 0.4888611940335069\n",
      "Epoch 19/30, Train Loss: 0.7054993749492698, Validation Loss: 0.705498822486203, ROC AUC: 0.4934728632409924\n",
      "Epoch 20/30, Train Loss: 0.69877395770616, Validation Loss: 0.6931671882202612, ROC AUC: 0.5267060820062134\n",
      "Epoch 21/30, Train Loss: 0.6931593417293496, Validation Loss: 0.693152904510498, ROC AUC: 0.504840658546284\n",
      "Epoch 22/30, Train Loss: 0.6931518733501434, Validation Loss: 0.6931499084715027, ROC AUC: 0.5758586692456563\n",
      "Epoch 23/30, Train Loss: 0.6931496491034825, Validation Loss: 0.693148672580719, ROC AUC: 0.5019801489834644\n",
      "Epoch 24/30, Train Loss: 0.6931486233241029, Validation Loss: 0.693148136138916, ROC AUC: 0.5070436416117755\n",
      "Epoch 25/30, Train Loss: 0.6931480850610469, Validation Loss: 0.6931476593017578, ROC AUC: 0.5282290796305991\n",
      "Epoch 26/30, Train Loss: 0.6931477572355006, Validation Loss: 0.6931475875127381, ROC AUC: 0.5049723185507481\n",
      "Epoch 27/30, Train Loss: 0.6931475570632352, Validation Loss: 0.6931474864153572, ROC AUC: 0.5054169787441585\n",
      "Epoch 28/30, Train Loss: 0.6931474284993278, Validation Loss: 0.6931473016738892, ROC AUC: 0.5020410605423713\n",
      "Epoch 29/30, Train Loss: 0.6931473140087393, Validation Loss: 0.6931471824645996, ROC AUC: 0.5052799628147124\n"
     ]
    },
    {
     "name": "stderr",
     "output_type": "stream",
     "text": [
      "\u001b[32m[I 2023-05-28 15:39:44,517]\u001b[0m Trial 1 finished with value: 0.8027722805331184 and parameters: {'lr': 8.258220774789589e-05, 'dropout_rate': 0.14009241848932386, 'out_channels1': 27, 'out_channels2': 50, 'out_channels3': 17, 'num_filters1': 19, 'num_filters2': 31}. Best is trial 1 with value: 0.8027722805331184.\u001b[0m\n"
     ]
    },
    {
     "name": "stdout",
     "output_type": "stream",
     "text": [
      "Epoch 30/30, Train Loss: 0.693147305233611, Validation Loss: 0.6931471824645996, ROC AUC: 0.5057719033485878\n"
     ]
    },
    {
     "name": "stderr",
     "output_type": "stream",
     "text": [
      "/tmp/ipykernel_885405/2761579482.py:12: FutureWarning: suggest_loguniform has been deprecated in v3.0.0. This feature will be removed in v6.0.0. See https://github.com/optuna/optuna/releases/tag/v3.0.0. Use :func:`~optuna.trial.Trial.suggest_float` instead.\n",
      "  lr = trial.suggest_loguniform(\"lr\", 1e-5, 1e-3)\n",
      "/tmp/ipykernel_885405/2761579482.py:13: FutureWarning: suggest_uniform has been deprecated in v3.0.0. This feature will be removed in v6.0.0. See https://github.com/optuna/optuna/releases/tag/v3.0.0. Use :func:`~optuna.trial.Trial.suggest_float` instead.\n",
      "  dropout_rate = trial.suggest_uniform(\"dropout_rate\", 0.0, 0.5)\n"
     ]
    },
    {
     "name": "stdout",
     "output_type": "stream",
     "text": [
      "Epoch 1/30, Train Loss: 0.7155292300714386, Validation Loss: 0.6987799676083728, ROC AUC: 0.3380183714554192\n",
      "Epoch 2/30, Train Loss: 0.6966145821743541, Validation Loss: 0.6932634441233472, ROC AUC: 0.38010149201697974\n",
      "Epoch 3/30, Train Loss: 0.6932344677547614, Validation Loss: 0.6931691163152621, ROC AUC: 0.6350331584481708\n",
      "Epoch 4/30, Train Loss: 0.6931761692795488, Validation Loss: 0.6931562565308249, ROC AUC: 0.465473654607627\n",
      "Epoch 5/30, Train Loss: 0.6931620356109407, Validation Loss: 0.6931518303096623, ROC AUC: 0.3452030931708543\n",
      "Epoch 6/30, Train Loss: 0.6931572895911005, Validation Loss: 0.693149745464325, ROC AUC: 0.5669948114208393\n",
      "Epoch 7/30, Train Loss: 0.6931546726160579, Validation Loss: 0.6931487677505662, ROC AUC: 0.4792548938218703\n",
      "Epoch 8/30, Train Loss: 0.6931542484296693, Validation Loss: 0.6931483748868026, ROC AUC: 0.31830264057290225\n",
      "Epoch 9/30, Train Loss: 0.6931525441507499, Validation Loss: 0.6931476593017578, ROC AUC: 0.40132206963934003\n",
      "Epoch 10/30, Train Loss: 0.6931516500810783, Validation Loss: 0.6931475400924683, ROC AUC: 0.37145127749366724\n",
      "Epoch 11/30, Train Loss: 0.693150882754061, Validation Loss: 0.6931474208831787, ROC AUC: 0.4074464033423808\n",
      "Epoch 12/30, Train Loss: 0.6931500650942326, Validation Loss: 0.6931473016738892, ROC AUC: 0.38457655309622735\n",
      "Epoch 13/30, Train Loss: 0.6931498499380218, Validation Loss: 0.6931473016738892, ROC AUC: 0.4489447680523072\n",
      "Epoch 14/30, Train Loss: 0.6931489968465434, Validation Loss: 0.6938847767713979, ROC AUC: 0.5015315392617515\n",
      "Epoch 15/30, Train Loss: 0.693148386478424, Validation Loss: 0.6931471824645996, ROC AUC: 0.4992648204597186\n",
      "Epoch 16/30, Train Loss: 0.6931483088268174, Validation Loss: 0.6931471824645996, ROC AUC: 0.49926820724823745\n",
      "Epoch 17/30, Train Loss: 0.6931483039425479, Validation Loss: 0.6931471824645996, ROC AUC: 0.4992677288808319\n",
      "Epoch 18/30, Train Loss: 0.6931481807596154, Validation Loss: 0.6931471824645996, ROC AUC: 0.4992678481432291\n",
      "Epoch 19/30, Train Loss: 0.6931484917799632, Validation Loss: 0.6931471824645996, ROC AUC: 0.4992677288808319\n",
      "Epoch 20/30, Train Loss: 0.6931480502088865, Validation Loss: 0.6931471824645996, ROC AUC: 0.49926832519281816\n",
      "Epoch 21/30, Train Loss: 0.6931478490432104, Validation Loss: 0.6931471824645996, ROC AUC: 0.49932879122822826\n",
      "Epoch 22/30, Train Loss: 0.6931479015284114, Validation Loss: 0.6931471824645996, ROC AUC: 0.49993448540940866\n",
      "Epoch 23/30, Train Loss: 0.6931481023629507, Validation Loss: 0.6931471824645996, ROC AUC: 0.4992691600295989\n",
      "Epoch 24/30, Train Loss: 0.6931479295094808, Validation Loss: 0.6931471824645996, ROC AUC: 0.4996944497382233\n",
      "Epoch 25/30, Train Loss: 0.6931581969890329, Validation Loss: 0.6931471824645996, ROC AUC: 0.49999964221280824\n",
      "Epoch 26/30, Train Loss: 0.6931482140388754, Validation Loss: 0.6931471824645996, ROC AUC: 0.49999964221280824\n",
      "Epoch 27/30, Train Loss: 0.6931483337448703, Validation Loss: 0.6931471824645996, ROC AUC: 0.49999964221280824\n",
      "Epoch 28/30, Train Loss: 0.6931479959024324, Validation Loss: 0.6931471824645996, ROC AUC: 0.49999964221280824\n",
      "Epoch 29/30, Train Loss: 0.6931479832364453, Validation Loss: 0.6931471824645996, ROC AUC: 0.49999964221280824\n"
     ]
    },
    {
     "name": "stderr",
     "output_type": "stream",
     "text": [
      "\u001b[32m[I 2023-05-28 17:21:16,225]\u001b[0m Trial 2 finished with value: 0.6350331584481708 and parameters: {'lr': 0.0007757547316216896, 'dropout_rate': 0.3190224520984825, 'out_channels1': 31, 'out_channels2': 18, 'out_channels3': 38, 'num_filters1': 23, 'num_filters2': 43}. Best is trial 1 with value: 0.8027722805331184.\u001b[0m\n"
     ]
    },
    {
     "name": "stdout",
     "output_type": "stream",
     "text": [
      "Epoch 30/30, Train Loss: 0.6931478229661783, Validation Loss: 0.6931471824645996, ROC AUC: 0.49999964221280824\n"
     ]
    },
    {
     "name": "stderr",
     "output_type": "stream",
     "text": [
      "/tmp/ipykernel_885405/2761579482.py:12: FutureWarning: suggest_loguniform has been deprecated in v3.0.0. This feature will be removed in v6.0.0. See https://github.com/optuna/optuna/releases/tag/v3.0.0. Use :func:`~optuna.trial.Trial.suggest_float` instead.\n",
      "  lr = trial.suggest_loguniform(\"lr\", 1e-5, 1e-3)\n",
      "/tmp/ipykernel_885405/2761579482.py:13: FutureWarning: suggest_uniform has been deprecated in v3.0.0. This feature will be removed in v6.0.0. See https://github.com/optuna/optuna/releases/tag/v3.0.0. Use :func:`~optuna.trial.Trial.suggest_float` instead.\n",
      "  dropout_rate = trial.suggest_uniform(\"dropout_rate\", 0.0, 0.5)\n"
     ]
    },
    {
     "name": "stdout",
     "output_type": "stream",
     "text": [
      "Epoch 1/30, Train Loss: 0.736590452823374, Validation Loss: 0.7137756910771955, ROC AUC: 0.49183221497760704\n",
      "Epoch 2/30, Train Loss: 0.7057807879315482, Validation Loss: 0.713948102287166, ROC AUC: 0.48950654818262784\n",
      "Epoch 3/30, Train Loss: 0.6992481442789237, Validation Loss: 0.6960899599349302, ROC AUC: 0.557825565600485\n",
      "Epoch 4/30, Train Loss: 0.6958931257327398, Validation Loss: 0.6956959531452116, ROC AUC: 0.6741670505997438\n",
      "Epoch 5/30, Train Loss: 0.695680504043897, Validation Loss: 0.6956322887984429, ROC AUC: 0.43359829531976385\n",
      "Epoch 6/30, Train Loss: 0.6944132031665908, Validation Loss: 0.6938077106001628, ROC AUC: 0.788926391197555\n",
      "Epoch 7/30, Train Loss: 0.6938192305465539, Validation Loss: 0.6937723492390543, ROC AUC: 0.786168422980665\n",
      "Epoch 8/30, Train Loss: 0.693782037579351, Validation Loss: 0.6937618443320469, ROC AUC: 0.7837021923628247\n",
      "Epoch 9/30, Train Loss: 0.6937678237756093, Validation Loss: 0.69375631427238, ROC AUC: 0.7829487589737262\n",
      "Epoch 10/30, Train Loss: 0.6937493796977732, Validation Loss: 0.6937580451122305, ROC AUC: 0.8091470847681729\n",
      "Epoch 11/30, Train Loss: 0.6935071479115221, Validation Loss: 0.6937516446930269, ROC AUC: 0.8103001367479328\n",
      "Epoch 12/30, Train Loss: 0.6934076589842637, Validation Loss: 0.6936003042189456, ROC AUC: 0.8150233103637121\n",
      "Epoch 13/30, Train Loss: 0.6933827149371307, Validation Loss: 0.6935998665693716, ROC AUC: 0.8203809803695286\n",
      "Epoch 14/30, Train Loss: 0.6933319141467412, Validation Loss: 0.7007414823737592, ROC AUC: 0.7668832554378165\n",
      "Epoch 15/30, Train Loss: 0.6931569662359026, Validation Loss: 0.6994595521062777, ROC AUC: 0.7709954808814489\n",
      "Epoch 16/30, Train Loss: 0.6931557950046328, Validation Loss: 0.6940580066396387, ROC AUC: 0.695426831763792\n",
      "Epoch 17/30, Train Loss: 0.6931547032462226, Validation Loss: 0.6983992118203179, ROC AUC: 0.48381841413727467\n",
      "Epoch 18/30, Train Loss: 0.6931519849432839, Validation Loss: 0.6952781710176836, ROC AUC: 0.48532448950031887\n",
      "Epoch 19/30, Train Loss: 0.693151609102885, Validation Loss: 0.6999846367546207, ROC AUC: 0.49441045614453427\n",
      "Epoch 20/30, Train Loss: 0.6931508553524812, Validation Loss: 0.6946496265369225, ROC AUC: 0.6765214181445136\n",
      "Epoch 21/30, Train Loss: 0.6931501350469059, Validation Loss: 0.6943652708886078, ROC AUC: 0.49795616233316153\n",
      "Epoch 22/30, Train Loss: 0.6931499357024828, Validation Loss: 0.6955577543427273, ROC AUC: 0.5644413513042736\n",
      "Epoch 23/30, Train Loss: 0.6931493285629484, Validation Loss: 0.6931472420692444, ROC AUC: 0.5003722031071041\n",
      "Epoch 24/30, Train Loss: 0.6931487034592364, Validation Loss: 0.6931472420692444, ROC AUC: 0.4992672518312428\n",
      "Epoch 25/30, Train Loss: 0.6931484682692421, Validation Loss: 0.6931472420692444, ROC AUC: 0.49926737109364006\n",
      "Epoch 26/30, Train Loss: 0.6931497030787998, Validation Loss: 0.6931472420692444, ROC AUC: 0.49926737109364006\n",
      "Epoch 27/30, Train Loss: 0.6931484301057127, Validation Loss: 0.6931472420692444, ROC AUC: 0.49926737109364006\n",
      "Epoch 28/30, Train Loss: 0.6931479600568612, Validation Loss: 0.6931472420692444, ROC AUC: 0.49926737109364006\n",
      "Epoch 29/30, Train Loss: 0.693147822883394, Validation Loss: 0.6931472420692444, ROC AUC: 0.49926713256884553\n"
     ]
    },
    {
     "name": "stderr",
     "output_type": "stream",
     "text": [
      "\u001b[32m[I 2023-05-28 19:24:48,383]\u001b[0m Trial 3 finished with value: 0.8203809803695286 and parameters: {'lr': 0.00017996145605171359, 'dropout_rate': 0.4860824373441544, 'out_channels1': 39, 'out_channels2': 40, 'out_channels3': 23, 'num_filters1': 43, 'num_filters2': 53}. Best is trial 3 with value: 0.8203809803695286.\u001b[0m\n"
     ]
    },
    {
     "name": "stdout",
     "output_type": "stream",
     "text": [
      "Epoch 30/30, Train Loss: 0.6931476951473289, Validation Loss: 0.6931472420692444, ROC AUC: 0.49926737109364006\n"
     ]
    },
    {
     "name": "stderr",
     "output_type": "stream",
     "text": [
      "/tmp/ipykernel_885405/2761579482.py:12: FutureWarning: suggest_loguniform has been deprecated in v3.0.0. This feature will be removed in v6.0.0. See https://github.com/optuna/optuna/releases/tag/v3.0.0. Use :func:`~optuna.trial.Trial.suggest_float` instead.\n",
      "  lr = trial.suggest_loguniform(\"lr\", 1e-5, 1e-3)\n",
      "/tmp/ipykernel_885405/2761579482.py:13: FutureWarning: suggest_uniform has been deprecated in v3.0.0. This feature will be removed in v6.0.0. See https://github.com/optuna/optuna/releases/tag/v3.0.0. Use :func:`~optuna.trial.Trial.suggest_float` instead.\n",
      "  dropout_rate = trial.suggest_uniform(\"dropout_rate\", 0.0, 0.5)\n"
     ]
    },
    {
     "name": "stdout",
     "output_type": "stream",
     "text": [
      "Epoch 1/30, Train Loss: 0.7277097177174356, Validation Loss: 0.7061801852442283, ROC AUC: 0.39636559246372466\n",
      "Epoch 2/30, Train Loss: 0.7053768307798438, Validation Loss: 0.7033306136315699, ROC AUC: 0.3367011728764219\n",
      "Epoch 3/30, Train Loss: 0.7023081629640526, Validation Loss: 0.7022373761919981, ROC AUC: 0.47614437854224817\n",
      "Epoch 4/30, Train Loss: 0.7022203818791443, Validation Loss: 0.7022021778380674, ROC AUC: 0.4403765479999079\n",
      "Epoch 5/30, Train Loss: 0.6984094493091106, Validation Loss: 0.6960077028906806, ROC AUC: 0.3430059069311069\n",
      "Epoch 6/30, Train Loss: 0.6958754758867952, Validation Loss: 0.6958944718482086, ROC AUC: 0.34036152284760923\n",
      "Epoch 7/30, Train Loss: 0.6958591016630332, Validation Loss: 0.6958783400651499, ROC AUC: 0.34930813749343914\n",
      "Epoch 8/30, Train Loss: 0.6946807755364313, Validation Loss: 0.6931662118237322, ROC AUC: 0.5412911561195279\n",
      "Epoch 9/30, Train Loss: 0.6931702065798971, Validation Loss: 0.6931522686178513, ROC AUC: 0.4323255538857289\n",
      "Epoch 10/30, Train Loss: 0.693158979796701, Validation Loss: 0.6931495389885666, ROC AUC: 0.45648937438140635\n",
      "Epoch 11/30, Train Loss: 0.6931559768815835, Validation Loss: 0.6931484937667847, ROC AUC: 0.46198589238953447\n",
      "Epoch 12/30, Train Loss: 0.6931548418270217, Validation Loss: 0.693147974448968, ROC AUC: 0.4511044624624825\n",
      "Epoch 13/30, Train Loss: 0.6931542502509223, Validation Loss: 0.6931476593017578, ROC AUC: 0.4643530073584993\n",
      "Epoch 14/30, Train Loss: 0.6931535869836807, Validation Loss: 0.6931477785110474, ROC AUC: 0.4493923100373698\n",
      "Epoch 15/30, Train Loss: 0.6931496618522538, Validation Loss: 0.6931473016738892, ROC AUC: 0.5000798936654959\n",
      "Epoch 16/30, Train Loss: 0.6931481036874984, Validation Loss: 0.6931472420692444, ROC AUC: 0.5023786784683637\n",
      "Epoch 17/30, Train Loss: 0.693147424608469, Validation Loss: 0.6931472420692444, ROC AUC: 0.49844330288922944\n",
      "Epoch 18/30, Train Loss: 0.6931474115285609, Validation Loss: 1.2397205539829823, ROC AUC: 0.28825475804649636\n",
      "Epoch 19/30, Train Loss: 0.693147275182936, Validation Loss: 0.6931471824645996, ROC AUC: 0.49951090490884226\n",
      "Epoch 20/30, Train Loss: 0.6931473062270217, Validation Loss: 0.6931471824645996, ROC AUC: 0.4995117397456231\n",
      "Epoch 21/30, Train Loss: 0.6931472601989905, Validation Loss: 0.6931471824645996, ROC AUC: 0.49951138195843126\n",
      "Epoch 22/30, Train Loss: 0.6931472219526768, Validation Loss: 0.6931471824645996, ROC AUC: 0.49951150122082855\n",
      "Epoch 23/30, Train Loss: 0.6931471973657608, Validation Loss: 0.6931471824645996, ROC AUC: 0.4996336259156214\n",
      "Epoch 24/30, Train Loss: 0.6931471994353665, Validation Loss: 0.6931471824645996, ROC AUC: 0.49963350665322415\n",
      "Epoch 25/30, Train Loss: 0.6931471924814913, Validation Loss: 0.6931471824645996, ROC AUC: 0.4996348191985023\n",
      "Epoch 26/30, Train Loss: 0.6931471836235789, Validation Loss: 0.6931471824645996, ROC AUC: 0.49963410296521044\n",
      "Epoch 27/30, Train Loss: 0.6931471830440892, Validation Loss: 0.6931471824645996, ROC AUC: 0.4998776394160457\n",
      "Epoch 28/30, Train Loss: 0.693147182961305, Validation Loss: 0.6931471824645996, ROC AUC: 0.49987751751801535\n",
      "Epoch 29/30, Train Loss: 0.693147194551097, Validation Loss: 0.6931471824645996, ROC AUC: 0.4998773982556181\n"
     ]
    },
    {
     "name": "stderr",
     "output_type": "stream",
     "text": [
      "\u001b[32m[I 2023-05-28 21:16:43,879]\u001b[0m Trial 4 finished with value: 0.5412911561195279 and parameters: {'lr': 0.0004415264664420704, 'dropout_rate': 0.1184728375255536, 'out_channels1': 21, 'out_channels2': 35, 'out_channels3': 46, 'num_filters1': 24, 'num_filters2': 57}. Best is trial 3 with value: 0.8203809803695286.\u001b[0m\n"
     ]
    },
    {
     "name": "stdout",
     "output_type": "stream",
     "text": [
      "Epoch 30/30, Train Loss: 0.6931471895840433, Validation Loss: 0.6931471824645996, ROC AUC: 0.49999952295041095\n"
     ]
    }
   ],
   "source": [
    "# Crear un estudio de optimización\n",
    "study = optuna.create_study(direction=\"maximize\") #ahora se intenta maximizar el AUC, no minimizarlo\n",
    "\n",
    "# Ejecutar el estudio de optimización con la función 'objective' y un número determinado de ensayos\n",
    "study.optimize(objective, n_trials=5)\n",
    "\n"
   ]
  },
  {
   "cell_type": "code",
   "execution_count": 24,
   "metadata": {},
   "outputs": [],
   "source": [
    "with open('study.pkl', 'wb') as f:\n",
    "    pickle.dump(study, f)"
   ]
  },
  {
   "attachments": {},
   "cell_type": "markdown",
   "metadata": {},
   "source": [
    "# post entrenamiento"
   ]
  },
  {
   "cell_type": "code",
   "execution_count": 18,
   "metadata": {},
   "outputs": [
    {
     "name": "stdout",
     "output_type": "stream",
     "text": [
      "Mejor prueba: \n",
      "FrozenTrial(number=3, state=TrialState.COMPLETE, values=[0.8203809803695286], datetime_start=datetime.datetime(2023, 5, 28, 17, 21, 16, 226622), datetime_complete=datetime.datetime(2023, 5, 28, 19, 24, 48, 383640), params={'lr': 0.00017996145605171359, 'dropout_rate': 0.4860824373441544, 'out_channels1': 39, 'out_channels2': 40, 'out_channels3': 23, 'num_filters1': 43, 'num_filters2': 53}, user_attrs={}, system_attrs={}, intermediate_values={}, distributions={'lr': FloatDistribution(high=0.001, log=True, low=1e-05, step=None), 'dropout_rate': FloatDistribution(high=0.5, log=False, low=0.0, step=None), 'out_channels1': IntDistribution(high=64, log=False, low=16, step=1), 'out_channels2': IntDistribution(high=64, log=False, low=16, step=1), 'out_channels3': IntDistribution(high=64, log=False, low=16, step=1), 'num_filters1': IntDistribution(high=64, log=False, low=16, step=1), 'num_filters2': IntDistribution(high=64, log=False, low=16, step=1)}, trial_id=3, value=None)\n",
      "\n",
      "Mejores hiperparámetros: \n",
      "{'lr': 0.00017996145605171359, 'dropout_rate': 0.4860824373441544, 'out_channels1': 39, 'out_channels2': 40, 'out_channels3': 23, 'num_filters1': 43, 'num_filters2': 53}\n"
     ]
    }
   ],
   "source": [
    "with open('study.pkl', 'rb') as f:\n",
    "    study = pickle.load(f)\n",
    "\n",
    "print(\"Mejor prueba: \")\n",
    "print(study.best_trial)\n",
    "\n",
    "print(\"\\nMejores hiperparámetros: \")\n",
    "print(study.best_trial.params)"
   ]
  },
  {
   "cell_type": "code",
   "execution_count": 19,
   "metadata": {},
   "outputs": [
    {
     "name": "stdout",
     "output_type": "stream",
     "text": [
      "Mejores hiperparámetros encontrados:\n",
      "Tasa de aprendizaje: 0.00017996145605171359\n",
      "Tasa de dropout: 0.4860824373441544\n",
      "Número de filtros en la primera capa convolucional del encoder: 43\n",
      "Número de filtros en la segunda capa convolucional del encoder: 53\n",
      "Número de canales en la primera capa del decoder: 39\n",
      "Número de canales en la segunda capa del decoder: 40\n",
      "Número de canales en la tercera capa del decoder: 23\n"
     ]
    },
    {
     "data": {
      "text/plain": [
       "<All keys matched successfully>"
      ]
     },
     "execution_count": 19,
     "metadata": {},
     "output_type": "execute_result"
    }
   ],
   "source": [
    "# Imprimir los mejores hiperparámetros encontrados\n",
    "print(\"Mejores hiperparámetros encontrados:\")\n",
    "print(\"Tasa de aprendizaje:\", study.best_params[\"lr\"])\n",
    "print(\"Tasa de dropout:\", study.best_params[\"dropout_rate\"])\n",
    "print(\"Número de filtros en la primera capa convolucional del encoder:\", study.best_params[\"num_filters1\"])\n",
    "print(\"Número de filtros en la segunda capa convolucional del encoder:\", study.best_params[\"num_filters2\"])\n",
    "print(\"Número de canales en la primera capa del decoder:\", study.best_params[\"out_channels1\"])\n",
    "print(\"Número de canales en la segunda capa del decoder:\", study.best_params[\"out_channels2\"])\n",
    "print(\"Número de canales en la tercera capa del decoder:\", study.best_params[\"out_channels3\"])\n",
    "\n",
    "# Obtener el número del mejor ensayo\n",
    "best_trial_number = study.best_trial.number\n",
    "\n",
    "# Crear un nuevo 'decoder' y 'encoder' con los mejores hiperparámetros encontrados\n",
    "decoder = create_decoder(\n",
    "    study.best_params[\"dropout_rate\"],\n",
    "    study.best_params[\"out_channels1\"],\n",
    "    study.best_params[\"out_channels2\"],\n",
    "    study.best_params[\"out_channels3\"])\n",
    "\n",
    "encoder = create_encoder(\n",
    "    1, # número de canales de entrada\n",
    "    study.best_params[\"num_filters1\"],\n",
    "    study.best_params[\"num_filters2\"],\n",
    "    study.best_params[\"dropout_rate\"],\n",
    "    study.best_params[\"out_channels3\"]\n",
    "    )\n",
    "\n",
    "# Cargar los estados de los mejores modelos\n",
    "decoder_path = f\"modelos_intermedios/decoder_gpu_cat_completo_trial_{best_trial_number}.pt\"\n",
    "encoder_path = f\"modelos_intermedios/encoder_gpu_cat_completo_trial_{best_trial_number}.pt\"\n",
    "\n",
    "decoder.load_state_dict(torch.load(decoder_path))\n",
    "encoder.load_state_dict(torch.load(encoder_path))"
   ]
  },
  {
   "cell_type": "code",
   "execution_count": 20,
   "metadata": {},
   "outputs": [
    {
     "name": "stderr",
     "output_type": "stream",
     "text": [
      "/tmp/ipykernel_885405/3381394901.py:13: FutureWarning: The frame.append method is deprecated and will be removed from pandas in a future version. Use pandas.concat instead.\n",
      "  df = df.append(row, ignore_index=True)\n",
      "/tmp/ipykernel_885405/3381394901.py:13: FutureWarning: The frame.append method is deprecated and will be removed from pandas in a future version. Use pandas.concat instead.\n",
      "  df = df.append(row, ignore_index=True)\n",
      "/tmp/ipykernel_885405/3381394901.py:13: FutureWarning: The frame.append method is deprecated and will be removed from pandas in a future version. Use pandas.concat instead.\n",
      "  df = df.append(row, ignore_index=True)\n",
      "/tmp/ipykernel_885405/3381394901.py:13: FutureWarning: The frame.append method is deprecated and will be removed from pandas in a future version. Use pandas.concat instead.\n",
      "  df = df.append(row, ignore_index=True)\n",
      "/tmp/ipykernel_885405/3381394901.py:13: FutureWarning: The frame.append method is deprecated and will be removed from pandas in a future version. Use pandas.concat instead.\n",
      "  df = df.append(row, ignore_index=True)\n"
     ]
    }
   ],
   "source": [
    "df = pd.DataFrame()\n",
    "for i, trial in enumerate(study.trials, 1):\n",
    "    row = trial.params\n",
    "    row['loss last 20'] = round(trial.value, 4)\n",
    "    row['rank'] = i\n",
    "    row['nº ensayo'] = str(trial.number)\n",
    "    if 'channels' in row:\n",
    "        row['ch.'] = row.pop('channels')\n",
    "    if 'filters' in row:\n",
    "        row['filt.'] = row.pop('filters')\n",
    "    if 'lr' in row:\n",
    "        row['learning rate'] = round(row.pop('lr'), 4)\n",
    "    df = df.append(row, ignore_index=True)\n",
    "\n",
    "for col in df.columns:\n",
    "    if df[col].dtype.kind in 'fc':\n",
    "        df[col] = df[col].round(4)\n",
    "\n",
    "df = df.sort_values(by='loss last 20')\n",
    "df['rank'] = range(1, len(df) + 1)\n",
    "df.set_index('rank', inplace=True)\n"
   ]
  },
  {
   "cell_type": "code",
   "execution_count": 21,
   "metadata": {},
   "outputs": [],
   "source": [
    "# Guarda el DataFrame como un archivo Excel\n",
    "df.to_excel('ranking_modelos.xlsx', index=False, engine=\"openpyxl\")\n"
   ]
  },
  {
   "attachments": {},
   "cell_type": "markdown",
   "metadata": {},
   "source": [
    "## Métricas"
   ]
  },
  {
   "cell_type": "code",
   "execution_count": 8,
   "metadata": {},
   "outputs": [],
   "source": [
    "with open('study.pkl', 'rb') as f:\n",
    "    study = pickle.load(f)\n",
    "\n",
    "# Obtener el número del mejor ensayo\n",
    "best_trial_number = study.best_trial.number\n",
    "\n",
    "# Crear un nuevo 'decoder' y 'encoder' con los mejores hiperparámetros encontrados\n",
    "decoder = create_decoder(\n",
    "    study.best_params[\"dropout_rate\"],\n",
    "    study.best_params[\"out_channels1\"],\n",
    "    study.best_params[\"out_channels2\"],\n",
    "    study.best_params[\"out_channels3\"])\n",
    "\n",
    "encoder = create_encoder(\n",
    "    1, # número de canales de entrada\n",
    "    study.best_params[\"num_filters1\"],\n",
    "    study.best_params[\"num_filters2\"],\n",
    "    study.best_params[\"dropout_rate\"],\n",
    "    study.best_params[\"out_channels3\"]\n",
    "    )\n",
    "\n",
    "# Cargar los estados de los mejores modelos\n",
    "decoder_path = f\"modelos_intermedios/decoder_gpu_cat_completo_trial_{best_trial_number}.pt\"\n",
    "encoder_path = f\"modelos_intermedios/encoder_gpu_cat_completo_trial_{best_trial_number}.pt\"\n"
   ]
  },
  {
   "cell_type": "code",
   "execution_count": 9,
   "metadata": {},
   "outputs": [],
   "source": [
    "# Cargar los datos y dividirlos en conjuntos de entrenamiento y validación\n",
    "data = hdul[0].data\n",
    "\n",
    "input_data = np.array(data).astype(\"float32\") \n",
    "input_data=np.log10(((input_data - np.min(input_data)) / (np.max(input_data) - np.min(input_data))) + np.finfo(float).eps)\n",
    "\n",
    "input_data = input_data.reshape((data.shape[0], 1, data.shape[1], data.shape[2]))\n",
    "\n",
    "del hdul\n",
    "del data\n",
    "\n",
    "x_train, x_val, y_train, y_val = train_test_split(input_data, output_data, test_size=0.2, random_state=42)\n",
    "\n",
    "del input_data\n",
    "del output_data\n",
    "\n",
    "x_train = torch.from_numpy(x_train)\n",
    "y_train = torch.from_numpy(y_train).unsqueeze(1)\n",
    "x_val = torch.from_numpy(x_val)\n",
    "y_val = torch.from_numpy(y_val).unsqueeze(1)"
   ]
  },
  {
   "cell_type": "code",
   "execution_count": 10,
   "metadata": {},
   "outputs": [],
   "source": [
    "torch.cuda.empty_cache()"
   ]
  },
  {
   "cell_type": "code",
   "execution_count": 11,
   "metadata": {},
   "outputs": [
    {
     "data": {
      "text/plain": [
       "Sequential(\n",
       "  (0): ConvTranspose2d(23, 40, kernel_size=(3, 3), stride=(2, 2), padding=(1, 1), output_padding=(1, 1))\n",
       "  (1): ReLU()\n",
       "  (2): BatchNorm2d(40, eps=1e-05, momentum=0.1, affine=True, track_running_stats=True)\n",
       "  (3): Dropout(p=0.4860824373441544, inplace=False)\n",
       "  (4): ConvTranspose2d(40, 39, kernel_size=(3, 3), stride=(2, 2), padding=(1, 1), output_padding=(1, 1))\n",
       "  (5): ReLU()\n",
       "  (6): BatchNorm2d(39, eps=1e-05, momentum=0.1, affine=True, track_running_stats=True)\n",
       "  (7): Dropout(p=0.4860824373441544, inplace=False)\n",
       "  (8): ConvTranspose2d(39, 1, kernel_size=(3, 3), stride=(1, 1), padding=(1, 1))\n",
       "  (9): Sigmoid()\n",
       ")"
      ]
     },
     "execution_count": 11,
     "metadata": {},
     "output_type": "execute_result"
    }
   ],
   "source": [
    "# Definir los umbrales\n",
    "thresholds = [0.5, 0.6, 0.7, 0.8, 0.9]\n",
    "\n",
    "# Crear un DataLoader con lotes de 20 imágenes\n",
    "batch_size = 5\n",
    "val_dataset = TensorDataset(x_val, y_val)\n",
    "val_loader = DataLoader(val_dataset, batch_size=batch_size, shuffle=False)\n",
    "\n",
    "# Almacenar las métricas para cada umbral\n",
    "metrics = {threshold: {\"precision\": [], \"recall\": [], \"f1\": [], \"specificity\": []} for threshold in thresholds}\n",
    "\n",
    "# Establecer el modelo en modo de evaluación\n",
    "encoder.eval()\n",
    "decoder.eval()\n"
   ]
  },
  {
   "cell_type": "code",
   "execution_count": null,
   "metadata": {},
   "outputs": [
    {
     "name": "stdout",
     "output_type": "stream",
     "text": [
      "Procesado lote 0 de 37\n"
     ]
    }
   ],
   "source": [
    "# Iterar sobre los lotes de datos\n",
    "for i, (x_batch, y_batch) in enumerate(val_loader):\n",
    "    with torch.no_grad():\n",
    "        x_batch = x_batch.to(device)\n",
    "        enc_output = encoder(x_batch)\n",
    "        y_pred = decoder(enc_output).cpu()\n",
    "\n",
    "        # Iterar sobre los umbrales\n",
    "        for threshold in thresholds:\n",
    "            y_pred_bin = (y_pred > threshold).numpy()\n",
    "\n",
    "            # Calcular la matriz de confusión\n",
    "            cm = confusion_matrix(y_batch.numpy().flatten(), y_pred_bin.flatten())\n",
    "\n",
    "            # Calcular las métricas de interés\n",
    "            precision = precision_score(y_batch.numpy().flatten(), y_pred_bin.flatten(), zero_division=1)\n",
    "\n",
    "            recall = recall_score(y_batch.numpy().flatten(), y_pred_bin.flatten())\n",
    "            f1 = f1_score(y_batch.numpy().flatten(), y_pred_bin.flatten())\n",
    "\n",
    "            # Especificidad: (Verdaderos negativos) / (Verdaderos negativos + Falsos positivos)\n",
    "            specificity = cm[0, 0] / (cm[0, 0] + cm[0, 1])\n",
    "\n",
    "            # Almacenar las métricas\n",
    "            metrics[threshold][\"precision\"].append(precision)\n",
    "            metrics[threshold][\"recall\"].append(recall)\n",
    "            metrics[threshold][\"f1\"].append(f1)\n",
    "            metrics[threshold][\"specificity\"].append(specificity)\n",
    "\n",
    "    # Liberar la memoria ocupada por las variables que ya no se utilizan\n",
    "    del x_batch\n",
    "    del y_batch\n",
    "    del y_pred\n",
    "    del y_pred_bin\n",
    "    del enc_output\n",
    "    torch.cuda.empty_cache()\n",
    "\n",
    "    # Imprimir el progreso\n",
    "    if i % 10 == 0:  # Cambia este número si deseas ver las actualizaciones más o menos frecuentemente\n",
    "        print(f\"Procesado lote {i} de {len(val_loader)}\")\n",
    "\n",
    "print(\"Finalizado.\")\n"
   ]
  },
  {
   "cell_type": "code",
   "execution_count": null,
   "metadata": {},
   "outputs": [],
   "source": [
    "# Calcular la media de las métricas para cada umbral\n",
    "results = {}  # Diccionario para almacenar resultados\n",
    "for threshold in thresholds:\n",
    "    print(f\"\\nUmbral: {threshold}\")\n",
    "    results[threshold] = {}  # Diccionario para almacenar resultados de un umbral\n",
    "    for metric, values in metrics[threshold].items():\n",
    "        mean_value = np.mean(values)\n",
    "        print(f\"{metric.capitalize()}: {mean_value}\")\n",
    "        results[threshold][metric] = mean_value  # Almacenar resultado\n",
    "\n",
    "# Crear DataFrame con resultados\n",
    "df_results = pd.DataFrame(results)\n",
    "\n",
    "# Dibujar las gráficas de barras\n",
    "fig, ax = plt.subplots(4, 1, figsize=(10, 20))\n",
    "for i, metric in enumerate([\"precision\", \"recall\", \"f1\", \"specificity\"]):\n",
    "    mean_values = [np.mean(metrics[threshold][metric]) for threshold in thresholds]\n",
    "    ax[i].bar([str(threshold) for threshold in thresholds], mean_values)\n",
    "    ax[i].set_ylabel(metric.capitalize())\n",
    "    ax[i].set_xlabel(\"Umbral\")\n",
    "    ax[i].set_title(f\"{metric.capitalize()} vs Umbral\")\n",
    "\n",
    "plt.tight_layout()\n",
    "plt.show()\n"
   ]
  },
  {
   "cell_type": "code",
   "execution_count": null,
   "metadata": {},
   "outputs": [],
   "source": [
    "df_results.to_csv(\"Metricas.csv\")"
   ]
  },
  {
   "cell_type": "code",
   "execution_count": 1,
   "metadata": {},
   "outputs": [
    {
     "data": {
      "text/html": [
       "<div>\n",
       "<style scoped>\n",
       "    .dataframe tbody tr th:only-of-type {\n",
       "        vertical-align: middle;\n",
       "    }\n",
       "\n",
       "    .dataframe tbody tr th {\n",
       "        vertical-align: top;\n",
       "    }\n",
       "\n",
       "    .dataframe thead th {\n",
       "        text-align: right;\n",
       "    }\n",
       "</style>\n",
       "<table border=\"1\" class=\"dataframe\">\n",
       "  <thead>\n",
       "    <tr style=\"text-align: right;\">\n",
       "      <th></th>\n",
       "      <th>Unnamed: 0</th>\n",
       "      <th>0.5</th>\n",
       "      <th>0.6</th>\n",
       "      <th>0.7</th>\n",
       "      <th>0.8</th>\n",
       "      <th>0.9</th>\n",
       "    </tr>\n",
       "  </thead>\n",
       "  <tbody>\n",
       "    <tr>\n",
       "      <th>0</th>\n",
       "      <td>precision</td>\n",
       "      <td>0.000446</td>\n",
       "      <td>1.0</td>\n",
       "      <td>1.0</td>\n",
       "      <td>1.0</td>\n",
       "      <td>1.0</td>\n",
       "    </tr>\n",
       "    <tr>\n",
       "      <th>1</th>\n",
       "      <td>recall</td>\n",
       "      <td>1.000000</td>\n",
       "      <td>0.0</td>\n",
       "      <td>0.0</td>\n",
       "      <td>0.0</td>\n",
       "      <td>0.0</td>\n",
       "    </tr>\n",
       "    <tr>\n",
       "      <th>2</th>\n",
       "      <td>f1</td>\n",
       "      <td>0.000892</td>\n",
       "      <td>0.0</td>\n",
       "      <td>0.0</td>\n",
       "      <td>0.0</td>\n",
       "      <td>0.0</td>\n",
       "    </tr>\n",
       "    <tr>\n",
       "      <th>3</th>\n",
       "      <td>specificity</td>\n",
       "      <td>0.000000</td>\n",
       "      <td>1.0</td>\n",
       "      <td>1.0</td>\n",
       "      <td>1.0</td>\n",
       "      <td>1.0</td>\n",
       "    </tr>\n",
       "  </tbody>\n",
       "</table>\n",
       "</div>"
      ],
      "text/plain": [
       "    Unnamed: 0       0.5  0.6  0.7  0.8  0.9\n",
       "0    precision  0.000446  1.0  1.0  1.0  1.0\n",
       "1       recall  1.000000  0.0  0.0  0.0  0.0\n",
       "2           f1  0.000892  0.0  0.0  0.0  0.0\n",
       "3  specificity  0.000000  1.0  1.0  1.0  1.0"
      ]
     },
     "execution_count": 1,
     "metadata": {},
     "output_type": "execute_result"
    }
   ],
   "source": [
    "import pandas as pd\n",
    "df_results=pd.read_csv(\"Metricas.csv\")\n",
    "df_results.head()"
   ]
  }
 ],
 "metadata": {
  "kernelspec": {
   "display_name": "tutorial-env",
   "language": "python",
   "name": "python3"
  },
  "language_info": {
   "codemirror_mode": {
    "name": "ipython",
    "version": 3
   },
   "file_extension": ".py",
   "mimetype": "text/x-python",
   "name": "python",
   "nbconvert_exporter": "python",
   "pygments_lexer": "ipython3",
   "version": "3.10.6"
  }
 },
 "nbformat": 4,
 "nbformat_minor": 4
}
